{
 "cells": [
  {
   "cell_type": "code",
   "execution_count": 295,
   "metadata": {
    "scrolled": false
   },
   "outputs": [
    {
     "name": "stdout",
     "output_type": "stream",
     "text": [
      "Requirement already satisfied: pymongo in /anaconda3/lib/python3.7/site-packages (3.8.0)\r\n"
     ]
    }
   ],
   "source": [
    "# Import libraries\n",
    "import sqlite3 \n",
    "import requests\n",
    "import re\n",
    "import pandas as pd\n",
    "import matplotlib.pyplot as plt\n",
    "%matplotlib inline\n",
    "import seaborn as sns\n",
    "import time\n",
    "import datetime\n",
    "\n",
    "!pip install pymongo\n",
    "import pymongo\n",
    "    "
   ]
  },
  {
   "cell_type": "code",
   "execution_count": 296,
   "metadata": {
    "scrolled": true
   },
   "outputs": [],
   "source": [
    "# Connect database and creating cursor\n",
    "# I will be setting the limit for 2 in order not to surpass daily API call limit\n",
    "conn = sqlite3.connect('database.sqlite', detect_types=sqlite3.PARSE_COLNAMES)\n",
    "c = conn.cursor()\n",
    "\n",
    "\n",
    "c.execute(\"\"\"SELECT Match_ID, Unique_Team_ID, Unique_Team, Season, Date, HomeTeam, AwayTeam, FTHG, FTAG, FTR \n",
    "            FROM FlatView_Advanced WHERE Season = '2011' GROUP BY Match_ID ORDER BY Match_ID limit 2;\"\"\")\n",
    "\n",
    "df = pd.DataFrame(c.fetchall())\n",
    "df.columns = [x[0] for x in c.description]"
   ]
  },
  {
   "cell_type": "code",
   "execution_count": 297,
   "metadata": {},
   "outputs": [
    {
     "data": {
      "text/html": [
       "<div>\n",
       "<style scoped>\n",
       "    .dataframe tbody tr th:only-of-type {\n",
       "        vertical-align: middle;\n",
       "    }\n",
       "\n",
       "    .dataframe tbody tr th {\n",
       "        vertical-align: top;\n",
       "    }\n",
       "\n",
       "    .dataframe thead th {\n",
       "        text-align: right;\n",
       "    }\n",
       "</style>\n",
       "<table border=\"1\" class=\"dataframe\">\n",
       "  <thead>\n",
       "    <tr style=\"text-align: right;\">\n",
       "      <th></th>\n",
       "      <th>Match_ID</th>\n",
       "      <th>Unique_Team_ID</th>\n",
       "      <th>Unique_Team</th>\n",
       "      <th>Season</th>\n",
       "      <th>Date</th>\n",
       "      <th>HomeTeam</th>\n",
       "      <th>AwayTeam</th>\n",
       "      <th>FTHG</th>\n",
       "      <th>FTAG</th>\n",
       "      <th>FTR</th>\n",
       "      <th>Rainy_Day</th>\n",
       "    </tr>\n",
       "  </thead>\n",
       "  <tbody>\n",
       "    <tr>\n",
       "      <th>0</th>\n",
       "      <td>1092</td>\n",
       "      <td>1</td>\n",
       "      <td>Bayern Munich</td>\n",
       "      <td>2011</td>\n",
       "      <td>2012-03-31</td>\n",
       "      <td>Nurnberg</td>\n",
       "      <td>Bayern Munich</td>\n",
       "      <td>0</td>\n",
       "      <td>1</td>\n",
       "      <td>A</td>\n",
       "      <td>False</td>\n",
       "    </tr>\n",
       "    <tr>\n",
       "      <th>1</th>\n",
       "      <td>1093</td>\n",
       "      <td>1</td>\n",
       "      <td>Bayern Munich</td>\n",
       "      <td>2011</td>\n",
       "      <td>2011-12-11</td>\n",
       "      <td>Stuttgart</td>\n",
       "      <td>Bayern Munich</td>\n",
       "      <td>1</td>\n",
       "      <td>2</td>\n",
       "      <td>A</td>\n",
       "      <td>False</td>\n",
       "    </tr>\n",
       "  </tbody>\n",
       "</table>\n",
       "</div>"
      ],
      "text/plain": [
       "   Match_ID  Unique_Team_ID    Unique_Team Season        Date   HomeTeam  \\\n",
       "0      1092               1  Bayern Munich   2011  2012-03-31   Nurnberg   \n",
       "1      1093               1  Bayern Munich   2011  2011-12-11  Stuttgart   \n",
       "\n",
       "        AwayTeam  FTHG  FTAG FTR  Rainy_Day  \n",
       "0  Bayern Munich     0     1   A      False  \n",
       "1  Bayern Munich     1     2   A      False  "
      ]
     },
     "execution_count": 297,
     "metadata": {},
     "output_type": "execute_result"
    }
   ],
   "source": [
    "# 'rainy_day' feature engineering for every game day in 2011 using DarkSky.net weather API\n",
    "df['Rainy_Day'] = False\n",
    "\n",
    "for index, row in df.iterrows():\n",
    "    time = str(int(datetime.datetime.strptime(row['Date'], \"%Y-%m-%d\").timestamp())) # unix timestamp from date, casting for API format\n",
    "    response = requests.get('https://api.darksky.net/forecast/13e9efb8811df5d1b55434bb80abe89e/52.520008,13.404954,' + time).json()\n",
    "    # print(response['currently']['icon'])\n",
    "    # print(row['Rainy_Day'])\n",
    "    if 'rain' in response['currently']['icon']:\n",
    "        df.at[index,'Rainy_Day'] = True\n",
    "    else:\n",
    "        df.at[index,'Rainy_Day'] = False\n",
    "\n",
    "df.head()"
   ]
  },
  {
   "cell_type": "code",
   "execution_count": 298,
   "metadata": {
    "collapsed": true
   },
   "outputs": [
    {
     "data": {
      "image/png": "[encoded data removed]",
      "text/plain": [
       "<Figure size 432x288 with 1 Axes>"
      ]
     },
     "metadata": {
      "needs_background": "light"
     },
     "output_type": "display_data"
    },
    {
     "data": {
      "image/png": "[encoded data removed]",
      "text/plain": [
       "<Figure size 432x288 with 1 Axes>"
      ]
     },
     "metadata": {
      "needs_background": "light"
     },
     "output_type": "display_data"
    },
    {
     "data": {
      "image/png": "[encoded data removed]",
      "text/plain": [
       "<Figure size 432x288 with 1 Axes>"
      ]
     },
     "metadata": {
      "needs_background": "light"
     },
     "output_type": "display_data"
    }
   ],
   "source": [
    "# Create WeatherGetter class including main functions to manipulate dataframe\n",
    "\n",
    "class WeatherGetter():\n",
    "    \n",
    "# Calculate total goals  \n",
    "    def total_goals(team):\n",
    "        goals = []\n",
    "        for unique_team in df.Unique_Team:\n",
    "            for n in range(len(df.Unique_Team)):\n",
    "                if team == df.HomeTeam[n]:\n",
    "                    goals.append(df.FTHG[n])\n",
    "                elif team == df.AwayTeam[n]:\n",
    "                    goals.append(df.FTAG[n])\n",
    "#             print(goals)\n",
    "            return sum(goals)\n",
    "\n",
    "# Calculate total wins\n",
    "    def total_wins(team):\n",
    "        wins = []\n",
    "        for unique_team in df.Unique_Team:\n",
    "            for n in range(len(df.Unique_Team)):\n",
    "                if team == df.HomeTeam[n] and df.FTR[n] == 'H':\n",
    "                    wins.append(1)\n",
    "                elif team == df.AwayTeam[n] and df.FTR[n] == 'A':\n",
    "                    wins.append(1)\n",
    "            return sum(wins)\n",
    "        \n",
    "# Calculate total losses        \n",
    "    def total_losses(team):\n",
    "        loss = []\n",
    "        for unique_team in df.Unique_Team:\n",
    "            for n in range(len(df.Unique_Team)):\n",
    "                if team == df.HomeTeam[n] and df.FTR[n] == 'A':\n",
    "                    loss.append(1)\n",
    "                elif team == df.AwayTeam[n] and df.FTR[n] == 'H':\n",
    "                    loss.append(1)\n",
    "            return sum(loss)\n",
    "\n",
    "# Get teams that played in 2011\n",
    "    def get_teams(df):\n",
    "        teams = df.HomeTeam.append(df.AwayTeam)\n",
    "        unique_teams = list(set(teams))\n",
    "        return unique_teams\n",
    "    \n",
    "# Calculate wins on rainy days    \n",
    "    def rainy_wins(team):\n",
    "        rainy_wins = []\n",
    "        for unique_team in df.Unique_Team:\n",
    "            for n in range(len(df.Unique_Team)):\n",
    "                if team == df.HomeTeam[n] and df.FTR[n] == 'H' and df.Rainy_Day[n] == True:\n",
    "                    rainy_wins.append(1)\n",
    "                elif team == df.AwayTeam[n] and df.FTR[n] == 'A' and df.Rainy_Day[n] == True:\n",
    "                    rainy_wins.append(1)\n",
    "            return sum(rainy_wins)\n",
    "\n",
    "# Calculate rainy day percentage\n",
    "    def rainy_wins_perc(team):\n",
    "        if WeatherGetter.total_wins(team) == 0:\n",
    "            return 0\n",
    "        else:\n",
    "            return WeatherGetter.rainy_wins(team)/WeatherGetter.total_wins(team)\n",
    "\n",
    "# Plot wins and losses for each team in 2011 season\n",
    "    def plot(df):\n",
    "        for idx, team in enumerate(WeatherGetter.get_teams(df)):\n",
    "            wins = WeatherGetter.total_wins(team)\n",
    "            losses = WeatherGetter.total_losses(team)\n",
    "            team = team\n",
    "        \n",
    "            plt.bar([0,1], [wins,losses], alpha=0.5, tick_label=['wins','losses'])\n",
    "            plt.xlabel(team)\n",
    "            plt.show()\n",
    "    \n",
    "WeatherGetter.plot(df)\n"
   ]
  },
  {
   "cell_type": "code",
   "execution_count": 299,
   "metadata": {
    "collapsed": true
   },
   "outputs": [
    {
     "data": {
      "text/html": [
       "<div>\n",
       "<style scoped>\n",
       "    .dataframe tbody tr th:only-of-type {\n",
       "        vertical-align: middle;\n",
       "    }\n",
       "\n",
       "    .dataframe tbody tr th {\n",
       "        vertical-align: top;\n",
       "    }\n",
       "\n",
       "    .dataframe thead th {\n",
       "        text-align: right;\n",
       "    }\n",
       "</style>\n",
       "<table border=\"1\" class=\"dataframe\">\n",
       "  <thead>\n",
       "    <tr style=\"text-align: right;\">\n",
       "      <th></th>\n",
       "      <th>totalGoals</th>\n",
       "      <th>perc_rain_wins</th>\n",
       "      <th>teamId</th>\n",
       "      <th>teamName</th>\n",
       "      <th>totalWins</th>\n",
       "    </tr>\n",
       "  </thead>\n",
       "  <tbody>\n",
       "    <tr>\n",
       "      <th>0</th>\n",
       "      <td>0</td>\n",
       "      <td>0.0</td>\n",
       "      <td>1</td>\n",
       "      <td>Nurnberg</td>\n",
       "      <td>0</td>\n",
       "    </tr>\n",
       "    <tr>\n",
       "      <th>1</th>\n",
       "      <td>3</td>\n",
       "      <td>0.0</td>\n",
       "      <td>2</td>\n",
       "      <td>Bayern Munich</td>\n",
       "      <td>2</td>\n",
       "    </tr>\n",
       "    <tr>\n",
       "      <th>2</th>\n",
       "      <td>1</td>\n",
       "      <td>0.0</td>\n",
       "      <td>3</td>\n",
       "      <td>Stuttgart</td>\n",
       "      <td>0</td>\n",
       "    </tr>\n",
       "  </tbody>\n",
       "</table>\n",
       "</div>"
      ],
      "text/plain": [
       "    totalGoals  perc_rain_wins  teamId       teamName  totalWins\n",
       "0            0             0.0       1       Nurnberg          0\n",
       "1            3             0.0       2  Bayern Munich          2\n",
       "2            1             0.0       3      Stuttgart          0"
      ]
     },
     "execution_count": 299,
     "metadata": {},
     "output_type": "execute_result"
    }
   ],
   "source": [
    "# Create DataFrame for MongoDB migration\n",
    "# Columns: teamName, totalGoals, totalWins, wins_losses_viz, perc_rain_wins\n",
    "\n",
    "def getYrStats(df):\n",
    "    stats = []\n",
    "    for idx, team in enumerate(WeatherGetter.get_teams(df)):\n",
    "        stats.append({\n",
    "            'teamId' : idx + 1,\n",
    "            'teamName' : str(team),\n",
    "           ' totalGoals' : int(WeatherGetter.total_goals(team)),\n",
    "            'totalWins' : int(WeatherGetter.total_wins(team)),\n",
    "           # 'wins_losses_viz' : wins_losses_viz(team),\n",
    "            'perc_rain_wins' : float(WeatherGetter.rainy_wins_perc(team))\n",
    "       })\n",
    "    return stats # we can feed this directly to MongoDB\n",
    "\n",
    "statsDF = pd.DataFrame(getYrStats(df))\n",
    "statsDF.head()"
   ]
  },
  {
   "cell_type": "code",
   "execution_count": 286,
   "metadata": {},
   "outputs": [
    {
     "data": {
      "text/plain": [
       "[ObjectId('5ce46473f9a066fc171107cc'),\n",
       " ObjectId('5ce46473f9a066fc171107cd'),\n",
       " ObjectId('5ce46473f9a066fc171107ce')]"
      ]
     },
     "execution_count": 286,
     "metadata": {},
     "output_type": "execute_result"
    }
   ],
   "source": [
    "# Dump DataFrame (or list) to MongoDB instance\n",
    "class MongoHandler():\n",
    "    def mongo(self):\n",
    "        myclient = pymongo.MongoClient(\"mongodb://127.0.0.1:27017/\")\n",
    "        db = myclient['mod2_db']\n",
    "        coll = db.mod2_db['soccer_league_2011']\n",
    "        results = coll.insert_many(getYrStats(df)) # passing in a list of dictionaries\n",
    "        return results.inserted_ids   \n",
    "        \n",
    "MongoHandler().mongo()"
   ]
  }
 ],
 "metadata": {
  "kernelspec": {
   "display_name": "Python 3",
   "language": "python",
   "name": "python3"
  },
  "language_info": {
   "codemirror_mode": {
    "name": "ipython",
    "version": 3
   },
   "file_extension": ".py",
   "mimetype": "text/x-python",
   "name": "python",
   "nbconvert_exporter": "python",
   "pygments_lexer": "ipython3",
   "version": "3.7.3"
  }
 },
 "nbformat": 4,
 "nbformat_minor": 2
}
